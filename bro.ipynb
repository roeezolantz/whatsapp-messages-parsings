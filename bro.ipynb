{
  "nbformat": 4,
  "nbformat_minor": 0,
  "metadata": {
    "colab": {
      "name": "bro.ipynb",
      "provenance": [],
      "mount_file_id": "1Wijv0UFUIvvQ1Fgvltw5HfHuPdggBh92",
      "authorship_tag": "ABX9TyOOyYokIrnHZYq1kZ2tke5P",
      "include_colab_link": true
    },
    "kernelspec": {
      "name": "python3",
      "display_name": "Python 3"
    }
  },
  "cells": [
    {
      "cell_type": "markdown",
      "metadata": {
        "id": "view-in-github",
        "colab_type": "text"
      },
      "source": [
        "<a href=\"https://colab.research.google.com/github/roeezolantz/whatsapp-messages-parsings/blob/master/bro.ipynb\" target=\"_parent\"><img src=\"https://colab.research.google.com/assets/colab-badge.svg\" alt=\"Open In Colab\"/></a>"
      ]
    },
    {
      "cell_type": "markdown",
      "metadata": {
        "id": "Wo9BqdV384RZ",
        "colab_type": "text"
      },
      "source": [
        "# Read and Parse the Data"
      ]
    },
    {
      "cell_type": "code",
      "metadata": {
        "id": "vTqW6__-Qn_3",
        "colab_type": "code",
        "colab": {}
      },
      "source": [
        "import re\n",
        "\n",
        "def startsWithDateTime(s):\n",
        "    # 10/17/15, 18:48 - רועי זולנץ: להלה בלהבלה\n",
        "    pattern = '^([1-9]|0[1-9]|1[0-2]|)(\\/)([1-9]|[0-2][1-9]|3[0-1])(\\/)(\\d{2}|\\d{4}), ([0-9][0-9]):([0-9][0-9]) -'\n",
        "    return re.match(pattern, s)"
      ],
      "execution_count": 0,
      "outputs": []
    },
    {
      "cell_type": "code",
      "metadata": {
        "id": "frS0fvrLQvu7",
        "colab_type": "code",
        "colab": {}
      },
      "source": [
        "def startsWithAuthor(s):\n",
        "    # First Name + Last Name\n",
        "    pattern = '^([\\w]+[\\s]+[\\w]+):'\n",
        "    return re.match(pattern, s)"
      ],
      "execution_count": 0,
      "outputs": []
    },
    {
      "cell_type": "code",
      "metadata": {
        "id": "T-sxXPAnQ0r6",
        "colab_type": "code",
        "colab": {}
      },
      "source": [
        "def extractLineCols(line):\n",
        "  splitLine = line.split(' - ')\n",
        "  date, time = splitLine[0].split(', ')\n",
        "  message = ' '.join(splitLine[1:])\n",
        "  \n",
        "  if startsWithAuthor(message):\n",
        "      splitMessage = message.split(': ')\n",
        "      author = splitMessage[0]\n",
        "      message = ' '.join(splitMessage[1:])\n",
        "  else:\n",
        "      author = None\n",
        "  return date, time, author, message"
      ],
      "execution_count": 0,
      "outputs": []
    },
    {
      "cell_type": "code",
      "metadata": {
        "id": "O9GC47UPQ5sW",
        "colab_type": "code",
        "colab": {}
      },
      "source": [
        "parsedData = []\n",
        "conversationPath = './drive/My Drive/chat.txt' \n",
        "with open(conversationPath, encoding=\"utf-8\") as fp:    \n",
        "    messageBuffer = []\n",
        "    date, time, author = None, None, None\n",
        "\n",
        "    while True:\n",
        "        line = fp.readline() \n",
        "        if not line:\n",
        "            break\n",
        "        line = line.strip()\n",
        "        if startsWithDateTime(line): # each message starts with a time\n",
        "            if len(messageBuffer) > 0: # if previous message wasn't a new one, append it\n",
        "                parsedData.append([date, time, author, ' '.join(messageBuffer)])\n",
        "            messageBuffer.clear()\n",
        "            date, time, author, message = extractLineCols(line)\n",
        "            messageBuffer.append(message)\n",
        "        else:\n",
        "            messageBuffer.append(line)"
      ],
      "execution_count": 0,
      "outputs": []
    },
    {
      "cell_type": "code",
      "metadata": {
        "id": "pNYVEF6FStyH",
        "colab_type": "code",
        "colab": {
          "base_uri": "https://localhost:8080/",
          "height": 255
        },
        "outputId": "8fada5a4-04bd-4191-b3d5-3a6c24b49373"
      },
      "source": [
        "import pandas as pd                     \n",
        "\n",
        "df = pd.DataFrame(parsedData, columns=['Date', 'Time', 'Author', 'Message'])\n",
        "print(df.count())\n",
        "print(\"\\n\", df.head())"
      ],
      "execution_count": 245,
      "outputs": [
        {
          "output_type": "stream",
          "text": [
            "Date       15469\n",
            "Time       15469\n",
            "Author     15468\n",
            "Message    15469\n",
            "dtype: int64\n",
            "\n",
            "        Date  ...                                            Message\n",
            "0  10/17/15  ...  ירד לי האסימון עכשיו ששלחת לי הזמנות במיטאפ כש...\n",
            "1  10/17/15  ...                                              חחחחח\n",
            "2  10/17/15  ...                      לא יודע אבל זה סדרה של איזה 6\n",
            "3  10/17/15  ...                                       כל יום ראשון\n",
            "4  10/17/15  ...            לא ריאלי ללכת לכל אחד אבל נראה לי 2-3..\n",
            "\n",
            "[5 rows x 4 columns]\n"
          ],
          "name": "stdout"
        }
      ]
    },
    {
      "cell_type": "markdown",
      "metadata": {
        "id": "qlejFgUQcrVA",
        "colab_type": "text"
      },
      "source": [
        "# Number of Messages Per Author"
      ]
    },
    {
      "cell_type": "code",
      "metadata": {
        "id": "81xMf8seUue3",
        "colab_type": "code",
        "colab": {
          "base_uri": "https://localhost:8080/",
          "height": 314
        },
        "outputId": "08b28f90-ddb3-4db5-8b9a-65de49ad12d2"
      },
      "source": [
        "author_value_counts = df['Author'].value_counts()\n",
        "\n",
        "top_author_value_counts = author_value_counts.head()\n",
        "top_author_value_counts.plot.bar()"
      ],
      "execution_count": 246,
      "outputs": [
        {
          "output_type": "execute_result",
          "data": {
            "text/plain": [
              "<matplotlib.axes._subplots.AxesSubplot at 0x7f13d3c4aba8>"
            ]
          },
          "metadata": {
            "tags": []
          },
          "execution_count": 246
        },
        {
          "output_type": "display_data",
          "data": {
            "image/png": "[encoded data removed]",
            "text/plain": [
              "<Figure size 432x288 with 1 Axes>"
            ]
          },
          "metadata": {
            "tags": [],
            "needs_background": "light"
          }
        }
      ]
    },
    {
      "cell_type": "markdown",
      "metadata": {
        "id": "FI6QPt2gcj0R",
        "colab_type": "text"
      },
      "source": [
        "# Media Sent"
      ]
    },
    {
      "cell_type": "code",
      "metadata": {
        "id": "aZu0kssZVVSY",
        "colab_type": "code",
        "colab": {
          "base_uri": "https://localhost:8080/",
          "height": 399
        },
        "outputId": "7e74fb3b-b3ae-4437-e4ff-646f5a658ef0"
      },
      "source": [
        "media_messages_df = df[df['Message'] == '<Media omitted>']\n",
        "print(media_messages_df.describe())\n",
        "\n",
        "author_media_messages_value_counts = media_messages_df['Author'].value_counts()\n",
        "top_author_media_messages_value_counts = author_media_messages_value_counts.head()\n",
        "top_author_media_messages_value_counts.plot.bar()"
      ],
      "execution_count": 247,
      "outputs": [
        {
          "output_type": "stream",
          "text": [
            "          Date   Time      Author          Message\n",
            "count      899    899         899              899\n",
            "unique     357    548           2                1\n",
            "top     3/7/18  19:02  רועי זולנץ  <Media omitted>\n",
            "freq        24     21         467              899\n"
          ],
          "name": "stdout"
        },
        {
          "output_type": "execute_result",
          "data": {
            "text/plain": [
              "<matplotlib.axes._subplots.AxesSubplot at 0x7f13d3fd9f60>"
            ]
          },
          "metadata": {
            "tags": []
          },
          "execution_count": 247
        },
        {
          "output_type": "display_data",
          "data": {
            "image/png": "[encoded data removed]",
            "text/plain": [
              "<Figure size 432x288 with 1 Axes>"
            ]
          },
          "metadata": {
            "tags": [],
            "needs_background": "light"
          }
        }
      ]
    },
    {
      "cell_type": "markdown",
      "metadata": {
        "id": "hFoE5vmF5hfT",
        "colab_type": "text"
      },
      "source": [
        "# Cleanups"
      ]
    },
    {
      "cell_type": "code",
      "metadata": {
        "id": "2BDX2mDTVRT-",
        "colab_type": "code",
        "colab": {
          "base_uri": "https://localhost:8080/",
          "height": 80
        },
        "outputId": "b50bd54a-9d95-4db5-ea84-7132b9f89120"
      },
      "source": [
        "null_authors_df = df[df['Author'].isnull()]\n",
        "null_authors_df.head()"
      ],
      "execution_count": 248,
      "outputs": [
        {
          "output_type": "execute_result",
          "data": {
            "text/html": [
              "<div>\n",
              "<style scoped>\n",
              "    .dataframe tbody tr th:only-of-type {\n",
              "        vertical-align: middle;\n",
              "    }\n",
              "\n",
              "    .dataframe tbody tr th {\n",
              "        vertical-align: top;\n",
              "    }\n",
              "\n",
              "    .dataframe thead th {\n",
              "        text-align: right;\n",
              "    }\n",
              "</style>\n",
              "<table border=\"1\" class=\"dataframe\">\n",
              "  <thead>\n",
              "    <tr style=\"text-align: right;\">\n",
              "      <th></th>\n",
              "      <th>Date</th>\n",
              "      <th>Time</th>\n",
              "      <th>Author</th>\n",
              "      <th>Message</th>\n",
              "    </tr>\n",
              "  </thead>\n",
              "  <tbody>\n",
              "    <tr>\n",
              "      <th>808</th>\n",
              "      <td>4/5/16</td>\n",
              "      <td>20:14</td>\n",
              "      <td>None</td>\n",
              "      <td>Messages to this chat and calls are now secure...</td>\n",
              "    </tr>\n",
              "  </tbody>\n",
              "</table>\n",
              "</div>"
            ],
            "text/plain": [
              "       Date   Time Author                                            Message\n",
              "808  4/5/16  20:14   None  Messages to this chat and calls are now secure..."
            ]
          },
          "metadata": {
            "tags": []
          },
          "execution_count": 248
        }
      ]
    },
    {
      "cell_type": "code",
      "metadata": {
        "id": "Unxe4d8xVlKU",
        "colab_type": "code",
        "colab": {
          "base_uri": "https://localhost:8080/",
          "height": 204
        },
        "outputId": "a5516c72-a57c-46b1-e12a-22a35ffd3251"
      },
      "source": [
        "messages_df = df.drop(null_authors_df.index)\n",
        "messages_df = messages_df.drop(media_messages_df.index)\n",
        "messages_df.head()"
      ],
      "execution_count": 249,
      "outputs": [
        {
          "output_type": "execute_result",
          "data": {
            "text/html": [
              "<div>\n",
              "<style scoped>\n",
              "    .dataframe tbody tr th:only-of-type {\n",
              "        vertical-align: middle;\n",
              "    }\n",
              "\n",
              "    .dataframe tbody tr th {\n",
              "        vertical-align: top;\n",
              "    }\n",
              "\n",
              "    .dataframe thead th {\n",
              "        text-align: right;\n",
              "    }\n",
              "</style>\n",
              "<table border=\"1\" class=\"dataframe\">\n",
              "  <thead>\n",
              "    <tr style=\"text-align: right;\">\n",
              "      <th></th>\n",
              "      <th>Date</th>\n",
              "      <th>Time</th>\n",
              "      <th>Author</th>\n",
              "      <th>Message</th>\n",
              "    </tr>\n",
              "  </thead>\n",
              "  <tbody>\n",
              "    <tr>\n",
              "      <th>0</th>\n",
              "      <td>10/17/15</td>\n",
              "      <td>18:22</td>\n",
              "      <td>רועי זולנץ</td>\n",
              "      <td>ירד לי האסימון עכשיו ששלחת לי הזמנות במיטאפ כש...</td>\n",
              "    </tr>\n",
              "    <tr>\n",
              "      <th>1</th>\n",
              "      <td>10/17/15</td>\n",
              "      <td>18:48</td>\n",
              "      <td>תם לנגר</td>\n",
              "      <td>חחחחח</td>\n",
              "    </tr>\n",
              "    <tr>\n",
              "      <th>2</th>\n",
              "      <td>10/17/15</td>\n",
              "      <td>18:48</td>\n",
              "      <td>תם לנגר</td>\n",
              "      <td>לא יודע אבל זה סדרה של איזה 6</td>\n",
              "    </tr>\n",
              "    <tr>\n",
              "      <th>3</th>\n",
              "      <td>10/17/15</td>\n",
              "      <td>18:48</td>\n",
              "      <td>תם לנגר</td>\n",
              "      <td>כל יום ראשון</td>\n",
              "    </tr>\n",
              "    <tr>\n",
              "      <th>4</th>\n",
              "      <td>10/17/15</td>\n",
              "      <td>18:48</td>\n",
              "      <td>תם לנגר</td>\n",
              "      <td>לא ריאלי ללכת לכל אחד אבל נראה לי 2-3..</td>\n",
              "    </tr>\n",
              "  </tbody>\n",
              "</table>\n",
              "</div>"
            ],
            "text/plain": [
              "       Date  ...                                            Message\n",
              "0  10/17/15  ...  ירד לי האסימון עכשיו ששלחת לי הזמנות במיטאפ כש...\n",
              "1  10/17/15  ...                                              חחחחח\n",
              "2  10/17/15  ...                      לא יודע אבל זה סדרה של איזה 6\n",
              "3  10/17/15  ...                                       כל יום ראשון\n",
              "4  10/17/15  ...            לא ריאלי ללכת לכל אחד אבל נראה לי 2-3..\n",
              "\n",
              "[5 rows x 4 columns]"
            ]
          },
          "metadata": {
            "tags": []
          },
          "execution_count": 249
        }
      ]
    },
    {
      "cell_type": "markdown",
      "metadata": {
        "id": "gxNFYR5swOwg",
        "colab_type": "text"
      },
      "source": [
        "# Messages that Includes 'אחי'"
      ]
    },
    {
      "cell_type": "code",
      "metadata": {
        "id": "HS1nF8w0qz5F",
        "colab_type": "code",
        "colab": {
          "base_uri": "https://localhost:8080/",
          "height": 156
        },
        "outputId": "d8f3d9e6-80e4-4f03-8496-74d1cce53c97"
      },
      "source": [
        "regex = '([א]+[ח]+[י]+)'\n",
        "series = messages_df[\"Message\"]\n",
        "df1 = series.str.contains(regex)\n",
        "messages_df[df1].count()"
      ],
      "execution_count": 250,
      "outputs": [
        {
          "output_type": "stream",
          "text": [
            "/usr/local/lib/python3.6/dist-packages/pandas/core/strings.py:1954: UserWarning: This pattern has match groups. To actually get the groups, use str.extract.\n",
            "  return func(self, *args, **kwargs)\n"
          ],
          "name": "stderr"
        },
        {
          "output_type": "execute_result",
          "data": {
            "text/plain": [
              "Date       1381\n",
              "Time       1381\n",
              "Author     1381\n",
              "Message    1381\n",
              "dtype: int64"
            ]
          },
          "metadata": {
            "tags": []
          },
          "execution_count": 250
        }
      ]
    },
    {
      "cell_type": "markdown",
      "metadata": {
        "id": "qjCEimrOwS5h",
        "colab_type": "text"
      },
      "source": [
        "# Meesages that Includes Only 'אחי'"
      ]
    },
    {
      "cell_type": "code",
      "metadata": {
        "id": "TmT9MsHZwYQA",
        "colab_type": "code",
        "colab": {
          "base_uri": "https://localhost:8080/",
          "height": 473
        },
        "outputId": "a978ec51-dc19-43d9-d59a-51ca70c77b82"
      },
      "source": [
        "regex = '^([א]+[ח]+[י]+)$'\n",
        "series = messages_df[\"Message\"]\n",
        "bro_filter = series.str.contains(regex)\n",
        "bro_df = messages_df[bro_filter]\n",
        "bro_df.head(100)\n",
        "\n",
        "# bro_df.to_csv('./bro.csv', sep='\\t')"
      ],
      "execution_count": 251,
      "outputs": [
        {
          "output_type": "stream",
          "text": [
            "/usr/local/lib/python3.6/dist-packages/pandas/core/strings.py:1954: UserWarning: This pattern has match groups. To actually get the groups, use str.extract.\n",
            "  return func(self, *args, **kwargs)\n"
          ],
          "name": "stderr"
        },
        {
          "output_type": "execute_result",
          "data": {
            "text/html": [
              "<div>\n",
              "<style scoped>\n",
              "    .dataframe tbody tr th:only-of-type {\n",
              "        vertical-align: middle;\n",
              "    }\n",
              "\n",
              "    .dataframe tbody tr th {\n",
              "        vertical-align: top;\n",
              "    }\n",
              "\n",
              "    .dataframe thead th {\n",
              "        text-align: right;\n",
              "    }\n",
              "</style>\n",
              "<table border=\"1\" class=\"dataframe\">\n",
              "  <thead>\n",
              "    <tr style=\"text-align: right;\">\n",
              "      <th></th>\n",
              "      <th>Date</th>\n",
              "      <th>Time</th>\n",
              "      <th>Author</th>\n",
              "      <th>Message</th>\n",
              "    </tr>\n",
              "  </thead>\n",
              "  <tbody>\n",
              "    <tr>\n",
              "      <th>318</th>\n",
              "      <td>12/17/15</td>\n",
              "      <td>11:48</td>\n",
              "      <td>רועי זולנץ</td>\n",
              "      <td>אחי</td>\n",
              "    </tr>\n",
              "    <tr>\n",
              "      <th>469</th>\n",
              "      <td>1/15/16</td>\n",
              "      <td>14:12</td>\n",
              "      <td>רועי זולנץ</td>\n",
              "      <td>אחייי</td>\n",
              "    </tr>\n",
              "    <tr>\n",
              "      <th>484</th>\n",
              "      <td>1/21/16</td>\n",
              "      <td>09:29</td>\n",
              "      <td>רועי זולנץ</td>\n",
              "      <td>אחייי</td>\n",
              "    </tr>\n",
              "    <tr>\n",
              "      <th>674</th>\n",
              "      <td>3/22/16</td>\n",
              "      <td>10:46</td>\n",
              "      <td>רועי זולנץ</td>\n",
              "      <td>אחי</td>\n",
              "    </tr>\n",
              "    <tr>\n",
              "      <th>680</th>\n",
              "      <td>3/22/16</td>\n",
              "      <td>10:47</td>\n",
              "      <td>רועי זולנץ</td>\n",
              "      <td>אחי</td>\n",
              "    </tr>\n",
              "    <tr>\n",
              "      <th>...</th>\n",
              "      <td>...</td>\n",
              "      <td>...</td>\n",
              "      <td>...</td>\n",
              "      <td>...</td>\n",
              "    </tr>\n",
              "    <tr>\n",
              "      <th>7882</th>\n",
              "      <td>9/17/18</td>\n",
              "      <td>16:41</td>\n",
              "      <td>תם לנגר</td>\n",
              "      <td>אחי</td>\n",
              "    </tr>\n",
              "    <tr>\n",
              "      <th>7887</th>\n",
              "      <td>9/17/18</td>\n",
              "      <td>16:41</td>\n",
              "      <td>רועי זולנץ</td>\n",
              "      <td>אחייייייי</td>\n",
              "    </tr>\n",
              "    <tr>\n",
              "      <th>7912</th>\n",
              "      <td>9/19/18</td>\n",
              "      <td>23:36</td>\n",
              "      <td>רועי זולנץ</td>\n",
              "      <td>אחי</td>\n",
              "    </tr>\n",
              "    <tr>\n",
              "      <th>7920</th>\n",
              "      <td>9/22/18</td>\n",
              "      <td>18:54</td>\n",
              "      <td>רועי זולנץ</td>\n",
              "      <td>אחי</td>\n",
              "    </tr>\n",
              "    <tr>\n",
              "      <th>7934</th>\n",
              "      <td>9/23/18</td>\n",
              "      <td>19:44</td>\n",
              "      <td>רועי זולנץ</td>\n",
              "      <td>אחי</td>\n",
              "    </tr>\n",
              "  </tbody>\n",
              "</table>\n",
              "<p>100 rows × 4 columns</p>\n",
              "</div>"
            ],
            "text/plain": [
              "          Date   Time      Author    Message\n",
              "318   12/17/15  11:48  רועי זולנץ        אחי\n",
              "469    1/15/16  14:12  רועי זולנץ      אחייי\n",
              "484    1/21/16  09:29  רועי זולנץ      אחייי\n",
              "674    3/22/16  10:46  רועי זולנץ        אחי\n",
              "680    3/22/16  10:47  רועי זולנץ        אחי\n",
              "...        ...    ...         ...        ...\n",
              "7882   9/17/18  16:41     תם לנגר        אחי\n",
              "7887   9/17/18  16:41  רועי זולנץ  אחייייייי\n",
              "7912   9/19/18  23:36  רועי זולנץ        אחי\n",
              "7920   9/22/18  18:54  רועי זולנץ        אחי\n",
              "7934   9/23/18  19:44  רועי זולנץ        אחי\n",
              "\n",
              "[100 rows x 4 columns]"
            ]
          },
          "metadata": {
            "tags": []
          },
          "execution_count": 251
        }
      ]
    },
    {
      "cell_type": "code",
      "metadata": {
        "id": "RmZxVamqW1sc",
        "colab_type": "code",
        "colab": {
          "base_uri": "https://localhost:8080/",
          "height": 296
        },
        "outputId": "40e73520-de24-44aa-a02e-abb4bbf758d9"
      },
      "source": [
        "plt.xlabel('Number of Messages')\n",
        "plt.ylabel('Date')\n",
        "messages_df['Date'].value_counts().head(20).plot.barh()"
      ],
      "execution_count": 252,
      "outputs": [
        {
          "output_type": "execute_result",
          "data": {
            "text/plain": [
              "<matplotlib.axes._subplots.AxesSubplot at 0x7f13d3bdf6d8>"
            ]
          },
          "metadata": {
            "tags": []
          },
          "execution_count": 252
        },
        {
          "output_type": "display_data",
          "data": {
            "image/png": "[encoded data removed]",
            "text/plain": [
              "<Figure size 432x288 with 1 Axes>"
            ]
          },
          "metadata": {
            "tags": [],
            "needs_background": "light"
          }
        }
      ]
    },
    {
      "cell_type": "code",
      "metadata": {
        "id": "itfWh-CQzA5s",
        "colab_type": "code",
        "colab": {
          "base_uri": "https://localhost:8080/",
          "height": 557
        },
        "outputId": "8609c34e-658e-48b7-ea57-6ce447eca285"
      },
      "source": [
        "plt.figure(figsize=(15, 10))\n",
        "plt.xlabel('Number of יחא')\n",
        "plt.ylabel('Date')\n",
        "bro_df['Date'].value_counts().head(50).plot.barh()"
      ],
      "execution_count": 253,
      "outputs": [
        {
          "output_type": "execute_result",
          "data": {
            "text/plain": [
              "<matplotlib.axes._subplots.AxesSubplot at 0x7f13d39f1588>"
            ]
          },
          "metadata": {
            "tags": []
          },
          "execution_count": 253
        },
        {
          "output_type": "display_data",
          "data": {
            "image/png": "[encoded data removed]",
            "text/plain": [
              "<Figure size 1080x720 with 1 Axes>"
            ]
          },
          "metadata": {
            "tags": [],
            "needs_background": "light"
          }
        }
      ]
    },
    {
      "cell_type": "code",
      "metadata": {
        "id": "6W0sdhQJyjEX",
        "colab_type": "code",
        "colab": {
          "base_uri": "https://localhost:8080/",
          "height": 698
        },
        "outputId": "e9af369c-7796-4669-bb00-f13978c7fbae"
      },
      "source": [
        "plt.figure(figsize=(15, 10))\n",
        "plt.xlabel('Number of יחא')\n",
        "plt.ylabel('Hour of Day')\n",
        "bro_df['Hour'] = bro_df['Time'].apply(lambda x : x.split(':')[0])\n",
        "bro_df['Hour'].value_counts().head(24).sort_index(ascending=False).plot.barh()"
      ],
      "execution_count": 254,
      "outputs": [
        {
          "output_type": "stream",
          "text": [
            "/usr/local/lib/python3.6/dist-packages/ipykernel_launcher.py:4: SettingWithCopyWarning: \n",
            "A value is trying to be set on a copy of a slice from a DataFrame.\n",
            "Try using .loc[row_indexer,col_indexer] = value instead\n",
            "\n",
            "See the caveats in the documentation: https://pandas.pydata.org/pandas-docs/stable/user_guide/indexing.html#returning-a-view-versus-a-copy\n",
            "  after removing the cwd from sys.path.\n"
          ],
          "name": "stderr"
        },
        {
          "output_type": "execute_result",
          "data": {
            "text/plain": [
              "<matplotlib.axes._subplots.AxesSubplot at 0x7f13d511a550>"
            ]
          },
          "metadata": {
            "tags": []
          },
          "execution_count": 254
        },
        {
          "output_type": "display_data",
          "data": {
            "image/png": "[encoded data removed]",
            "text/plain": [
              "<Figure size 1080x720 with 1 Axes>"
            ]
          },
          "metadata": {
            "tags": [],
            "needs_background": "light"
          }
        }
      ]
    },
    {
      "cell_type": "code",
      "metadata": {
        "id": "7ahBa5g62DF9",
        "colab_type": "code",
        "colab": {
          "base_uri": "https://localhost:8080/",
          "height": 314
        },
        "outputId": "2047ce2a-d9bd-4477-e5f1-5da2251bc761"
      },
      "source": [
        "plt.ylabel('Number of יחא')\n",
        "bro_df['Author'].value_counts().head().plot.bar()"
      ],
      "execution_count": 255,
      "outputs": [
        {
          "output_type": "execute_result",
          "data": {
            "text/plain": [
              "<matplotlib.axes._subplots.AxesSubplot at 0x7f13d4921400>"
            ]
          },
          "metadata": {
            "tags": []
          },
          "execution_count": 255
        },
        {
          "output_type": "display_data",
          "data": {
            "image/png": "[encoded data removed]",
            "text/plain": [
              "<Figure size 432x288 with 1 Axes>"
            ]
          },
          "metadata": {
            "tags": [],
            "needs_background": "light"
          }
        }
      ]
    }
  ]
}